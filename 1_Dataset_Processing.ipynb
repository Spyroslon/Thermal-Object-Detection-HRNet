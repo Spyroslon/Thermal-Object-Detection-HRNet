{
  "nbformat": 4,
  "nbformat_minor": 0,
  "metadata": {
    "kernelspec": {
      "display_name": "Python 3",
      "language": "python",
      "name": "python3"
    },
    "language_info": {
      "codemirror_mode": {
        "name": "ipython",
        "version": 3
      },
      "file_extension": ".py",
      "mimetype": "text/x-python",
      "name": "python",
      "nbconvert_exporter": "python",
      "pygments_lexer": "ipython3",
      "version": "3.8.5"
    },
    "colab": {
      "provenance": [],
      "include_colab_link": true
    }
  },
  "cells": [
    {
      "cell_type": "markdown",
      "metadata": {
        "id": "view-in-github",
        "colab_type": "text"
      },
      "source": [
        "<a href=\"https://colab.research.google.com/github/Spyroslon/Thermal-Object-Detection-HRNet/blob/main/1_Dataset_Processing.ipynb\" target=\"_parent\"><img src=\"https://colab.research.google.com/assets/colab-badge.svg\" alt=\"Open In Colab\"/></a>"
      ]
    },
    {
      "cell_type": "markdown",
      "metadata": {
        "id": "hJ7okou5IBoU"
      },
      "source": [
        "# 1. Dataset Processing\n",
        "\n",
        "The purpose of this notebook is to visualize the distrubtion of annotated classes between the different directories and to modify the annotation files so they can be used by the MMDetection library in the training and testing process."
      ]
    },
    {
      "cell_type": "markdown",
      "metadata": {
        "id": "RxzVi-QlIJ3P"
      },
      "source": [
        "The dataset used in this project is the FREE FLIR Thermal Dataset for Algorithm Training https://www.flir.com/oem/adas/adas-dataset-form/.\n",
        "\n",
        "It can be downloaded by requesting access to it through their main website or by using the links provided https://flir.app.box.com/s/1z1wn8e5b9ff0vvcc589l1m5529smrnx and https://www.kaggle.com/deepnewbie/flir-thermal-images-dataset.\n",
        "\n",
        "All 3 directories train, val and video are used but with only their thermal_8_bit image files. The RGB and thermal_16_bit images where not used. Each directory contains annotation information in the MSCOCO format stored in a json file.\n",
        "\n",
        "To be properly used the data must be in the structure shown below:\n",
        "\n",
        "- train\n",
        "    - thermal_annotations.json\n",
        "    - thermal_8_bit\n",
        "        - FLIR_00001.jpeg\n",
        "        - FLIR_00002.jpeg\n",
        "        -...\n",
        "\n",
        "- val\n",
        "    - thermal_annotations.json\n",
        "    - thermal_8_bit\n",
        "        - FLIR_08863.jpeg\n",
        "        - FLIR_08864.jpeg\n",
        "        -...\n",
        "\n",
        "- video\n",
        "    - thermal_annotations.json\n",
        "    - thermal_8_bit\n",
        "        - FLIR_video_00001.jpeg\n",
        "        - FLIR_video_00002.jpeg\n",
        "        -..."
      ]
    },
    {
      "cell_type": "code",
      "metadata": {
        "colab": {
          "base_uri": "https://localhost:8080/"
        },
        "id": "OHNTkUf4K1Ss",
        "outputId": "5eba173c-0653-41ab-e656-68821bb2ee0e"
      },
      "source": [
        "from google.colab import drive\n",
        "drive.mount('/content/drive')"
      ],
      "execution_count": null,
      "outputs": [
        {
          "output_type": "stream",
          "text": [
            "Mounted at /content/drive\n"
          ],
          "name": "stdout"
        }
      ]
    },
    {
      "cell_type": "code",
      "metadata": {
        "colab": {
          "base_uri": "https://localhost:8080/"
        },
        "id": "GfgXhwM4K1op",
        "outputId": "8879a785-1f7a-4c6e-a1e4-bba24deea164"
      },
      "source": [
        "# Modify to the appropriate path\n",
        "%cd '/content/drive/MyDrive/Thermal Detection'"
      ],
      "execution_count": null,
      "outputs": [
        {
          "output_type": "stream",
          "text": [
            "/content/drive/MyDrive/Thermal Detection\n"
          ],
          "name": "stdout"
        }
      ]
    },
    {
      "cell_type": "code",
      "metadata": {
        "id": "l8yJRjOaIBoW"
      },
      "source": [
        "import pandas as pd\n",
        "import seaborn as sns\n",
        "import matplotlib.pyplot as plt\n",
        "import json\n",
        "import os"
      ],
      "execution_count": null,
      "outputs": []
    },
    {
      "cell_type": "code",
      "metadata": {
        "id": "jc8-O_WtKsOd"
      },
      "source": [
        "def category_distribution(path):\n",
        "  # Class for obtaining the annotation distribution between the classes\n",
        "  # for the given path\n",
        "  with open(f\"{path}/thermal_annotations.json\", \"r\") as f:\n",
        "      json_object = json.load(f)\n",
        "\n",
        "  annot_distribution = {}\n",
        "\n",
        "  for annot in json_object['annotations']:\n",
        "      if annot['category_id'] not in annot_distribution:\n",
        "        annot_distribution[annot['category_id']] = 1\n",
        "      else:\n",
        "        annot_distribution[annot['category_id']] += 1\n",
        "\n",
        "  for cat in json_object['categories']:\n",
        "    if cat['id'] in annot_distribution.keys():\n",
        "      annot_distribution[cat['name']] = annot_distribution.pop(cat['id'])\n",
        "\n",
        "  sns.barplot(x=list(annot_distribution.keys()), y=list(annot_distribution.values()))\n",
        "  plt.title(f'{path} Class Distrubution')\n",
        "  annot_distribution_df = pd.DataFrame([annot_distribution])\n",
        "\n",
        "  return annot_distribution_df"
      ],
      "execution_count": null,
      "outputs": []
    },
    {
      "cell_type": "code",
      "metadata": {
        "colab": {
          "base_uri": "https://localhost:8080/",
          "height": 281
        },
        "id": "FPYi1xnjKsS0",
        "outputId": "02d6fdaa-e5c6-4af6-8465-5858179bf2fc"
      },
      "source": [
        "train_distribution = category_distribution('train')"
      ],
      "execution_count": null,
      "outputs": [
        {
          "output_type": "display_data",
          "data": {
            "image/png": "[encoded data removed]",
            "text/plain": [
              "<Figure size 432x288 with 1 Axes>"
            ]
          },
          "metadata": {
            "needs_background": "light"
          }
        }
      ]
    },
    {
      "cell_type": "code",
      "metadata": {
        "colab": {
          "base_uri": "https://localhost:8080/",
          "height": 281
        },
        "id": "dVAzI60OPQrn",
        "outputId": "10328630-7d2b-4624-ea4c-0ffc2845e531"
      },
      "source": [
        "val_distribution = category_distribution('val')"
      ],
      "execution_count": null,
      "outputs": [
        {
          "output_type": "display_data",
          "data": {
            "image/png": "[encoded data removed]",
            "text/plain": [
              "<Figure size 432x288 with 1 Axes>"
            ]
          },
          "metadata": {
            "needs_background": "light"
          }
        }
      ]
    },
    {
      "cell_type": "code",
      "metadata": {
        "colab": {
          "base_uri": "https://localhost:8080/",
          "height": 281
        },
        "id": "04zBmSlkWxPG",
        "outputId": "254c887f-093b-4152-d7bc-062811410067"
      },
      "source": [
        "video_distribution = category_distribution('video')"
      ],
      "execution_count": null,
      "outputs": [
        {
          "output_type": "display_data",
          "data": {
            "image/png": "[encoded data removed]",
            "text/plain": [
              "<Figure size 432x288 with 1 Axes>"
            ]
          },
          "metadata": {
            "needs_background": "light"
          }
        }
      ]
    },
    {
      "cell_type": "code",
      "metadata": {
        "id": "aMFHyfyBIBoc",
        "colab": {
          "base_uri": "https://localhost:8080/"
        },
        "outputId": "a46403f5-e6ba-4e66-c199-5c5c51c5017e"
      },
      "source": [
        "unique_categories = train_distribution.columns.to_list()\n",
        "unique_categories.remove('dog')\n",
        "unique_categories"
      ],
      "execution_count": null,
      "outputs": [
        {
          "output_type": "execute_result",
          "data": {
            "text/plain": [
              "['person', 'bicycle', 'car']"
            ]
          },
          "metadata": {},
          "execution_count": 53
        }
      ]
    },
    {
      "cell_type": "code",
      "metadata": {
        "id": "zY6SXsGtXJgx"
      },
      "source": [
        "def generate_valid_json(path):\n",
        "  # Used to create a new modified version of the given annotation files\n",
        "  # to a format that can be used by the MMDetection library\n",
        "  # as to also remove the dog annotations\n",
        "\n",
        "  # Storing the contents of the thermal annotations json file\n",
        "  with open(f\"{path}/thermal_annotations.json\", \"r\") as f:\n",
        "      json_object = json.load(f)\n",
        "\n",
        "  # Replacing the categories to only contain the 3 that are present in\n",
        "  # the dataset whilst also also excluding the dog category\n",
        "  unique_categories_json = []\n",
        "  category_ids = []\n",
        "  for category in json_object['categories']:\n",
        "      if category['name'] in unique_categories:\n",
        "          unique_categories_json.append(category)\n",
        "          category_ids.append(category['id'])\n",
        "\n",
        "  json_object['categories'] = unique_categories_json\n",
        "\n",
        "  # Removing annotations that are not of the 3 categories (car, bicycle, person)\n",
        "  valid_annotations_json = []\n",
        "  for annotation in json_object['annotations']:\n",
        "      if annotation['category_id'] in category_ids:\n",
        "        valid_annotations_json.append(annotation)\n",
        "\n",
        "  json_object['annotations'] = valid_annotations_json\n",
        "\n",
        "  path_images_list = os.listdir(f'{path}/thermal_8_bit')\n",
        "  remove_indexes = []\n",
        "  # Removing the path from the filename the file_name and skipping\n",
        "  # any image_names not present in the thermal_8_bit folder\n",
        "  for image in json_object['images']:\n",
        "      if image['file_name'].split('/')[1] not in path_images_list:\n",
        "          remove_indexes.append(json_object['images'].index(image))\n",
        "      else:\n",
        "          image['file_name'] = image['file_name'].split('/')[1]\n",
        "\n",
        "  # Deleting images in reverse so we dont throw off the subsequent indexes.\n",
        "  for index in sorted(remove_indexes, reverse=True):\n",
        "      del json_object['images'][index]\n",
        "\n",
        "  # Creating the new thermal_annotations json file using the updated object\n",
        "  with open(f'{path}/thermal_annotations_v2.json', 'w', encoding='utf-8') as f:\n",
        "      json.dump(json_object, f, ensure_ascii=False, indent=2)\n",
        "      print(f'{path}/thermal_annotations_v2.json' + ' created!')\n"
      ],
      "execution_count": null,
      "outputs": []
    },
    {
      "cell_type": "code",
      "metadata": {
        "id": "mLfHsiQ8IBoc",
        "colab": {
          "base_uri": "https://localhost:8080/"
        },
        "outputId": "2093498c-65b1-4e52-8ee7-368eefb5ab57"
      },
      "source": [
        "generate_valid_json('train')"
      ],
      "execution_count": null,
      "outputs": [
        {
          "output_type": "stream",
          "text": [
            "train/thermal_annotations_v2.json created!\n"
          ],
          "name": "stdout"
        }
      ]
    },
    {
      "cell_type": "code",
      "metadata": {
        "id": "dDQey-rzIBod",
        "colab": {
          "base_uri": "https://localhost:8080/"
        },
        "outputId": "3d92fbc8-f530-47e7-c4c8-b27a75545fec"
      },
      "source": [
        "generate_valid_json('val')"
      ],
      "execution_count": null,
      "outputs": [
        {
          "output_type": "stream",
          "text": [
            "val/thermal_annotations_v2.json created!\n"
          ],
          "name": "stdout"
        }
      ]
    },
    {
      "cell_type": "code",
      "metadata": {
        "id": "wu701MKkIBod",
        "colab": {
          "base_uri": "https://localhost:8080/"
        },
        "outputId": "747818aa-82a3-4181-a2b3-e6a7266c38c5"
      },
      "source": [
        "generate_valid_json('video')"
      ],
      "execution_count": null,
      "outputs": [
        {
          "output_type": "stream",
          "text": [
            "video/thermal_annotations_v2.json created!\n"
          ],
          "name": "stdout"
        }
      ]
    },
    {
      "cell_type": "code",
      "metadata": {
        "id": "b2mA6s7iIBod"
      },
      "source": [],
      "execution_count": null,
      "outputs": []
    }
  ]
}